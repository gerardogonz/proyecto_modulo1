{
 "cells": [
  {
   "cell_type": "markdown",
   "metadata": {},
   "source": [
    "# Comercio de divisas Proyecto Parcial"
   ]
  },
  {
   "cell_type": "markdown",
   "metadata": {},
   "source": [
    "## Objetivos"
   ]
  },
  {
   "cell_type": "markdown",
   "metadata": {},
   "source": [
    "## Objetivos específicos"
   ]
  },
  {
   "cell_type": "markdown",
   "metadata": {},
   "source": [
    "### Modelo que representa el problema."
   ]
  },
  {
   "cell_type": "markdown",
   "metadata": {},
   "source": [
    "Una transacción de moneda spot es un acuerdo para comprar una cantidad de una moneda usando otra moneda."
   ]
  },
  {
   "cell_type": "code",
   "execution_count": 37,
   "metadata": {},
   "outputs": [
    {
     "data": {
      "text/html": [
       "<div>\n",
       "<style scoped>\n",
       "    .dataframe tbody tr th:only-of-type {\n",
       "        vertical-align: middle;\n",
       "    }\n",
       "\n",
       "    .dataframe tbody tr th {\n",
       "        vertical-align: top;\n",
       "    }\n",
       "\n",
       "    .dataframe thead th {\n",
       "        text-align: right;\n",
       "    }\n",
       "</style>\n",
       "<table border=\"1\" class=\"dataframe\">\n",
       "  <thead>\n",
       "    <tr style=\"text-align: right;\">\n",
       "      <th></th>\n",
       "      <th>Peso Mexicano</th>\n",
       "      <th>Dólar USD</th>\n",
       "      <th>Euro</th>\n",
       "      <th>Yen</th>\n",
       "    </tr>\n",
       "  </thead>\n",
       "  <tbody>\n",
       "    <tr>\n",
       "      <th>Peso Mexicano</th>\n",
       "      <td>1</td>\n",
       "      <td>0.048</td>\n",
       "      <td>0.04123</td>\n",
       "      <td>4.83</td>\n",
       "    </tr>\n",
       "    <tr>\n",
       "      <th>Dólar USD</th>\n",
       "      <td>21.1978</td>\n",
       "      <td>1</td>\n",
       "      <td>0.88518</td>\n",
       "      <td>102.48</td>\n",
       "    </tr>\n",
       "    <tr>\n",
       "      <th>Euro</th>\n",
       "      <td>24.2149</td>\n",
       "      <td>1.14233</td>\n",
       "      <td>1</td>\n",
       "      <td>117.07</td>\n",
       "    </tr>\n",
       "    <tr>\n",
       "      <th>Yen</th>\n",
       "      <td>0.2068</td>\n",
       "      <td>0.00976</td>\n",
       "      <td>0.00854</td>\n",
       "      <td>1</td>\n",
       "    </tr>\n",
       "  </tbody>\n",
       "</table>\n",
       "</div>"
      ],
      "text/plain": [
       "              Peso Mexicano Dólar USD     Euro     Yen\n",
       "Peso Mexicano             1     0.048  0.04123    4.83\n",
       "Dólar USD           21.1978         1  0.88518  102.48\n",
       "Euro                24.2149   1.14233        1  117.07\n",
       "Yen                  0.2068   0.00976  0.00854       1"
      ]
     },
     "execution_count": 37,
     "metadata": {},
     "output_type": "execute_result"
    }
   ],
   "source": [
    "import pandas as pd\n",
    "df = pd.DataFrame(columns=['Peso Mexicano', 'Dólar USD', 'Euro', 'Yen'], index = ['Peso Mexicano','Dólar USD','Euro','Yen'])\n",
    "df.loc['Peso Mexicano', :] = [ 1, 0.048, 0.04123,4.83]\n",
    "df.loc['Dólar USD', :] = [  21.1978, 1,0.88518,102.48]\n",
    "df.loc['Euro', :] = [24.2149,  1.14233, 1,117.07]\n",
    "df.loc['Yen', :] = [ 0.20680,0.00976, 0.00854, 1]\n",
    "df\n"
   ]
  },
  {
   "cell_type": "markdown",
   "metadata": {},
   "source": [
    "Tabla actualizada el 9 de marzo del 2020 a las 4pm."
   ]
  },
  {
   "cell_type": "code",
   "execution_count": null,
   "metadata": {},
   "outputs": [],
   "source": []
  },
  {
   "cell_type": "markdown",
   "metadata": {},
   "source": [
    "La función a maximizar viene dada por:\n",
    "\n",
    "$$f1= 21.1978x_{21} + 24.2149x_{31}+ 0.2068x_{41}-x_{12}-x_{13}-x_{14}$$\n",
    "\n",
    "Las restriccones son:\n",
    "\n",
    "$$f1= 21.1978x_{21} + 24.2149x_{31}+ 0.2068x_{41}-x_{12}-x_{13}-x_{14}\\leq 100 $$\n",
    "$$f1= 21.1978x_{21} + 24.2149x_{31}+ 0.2068x_{41}-x_{12}-x_{13}-x_{14}\\geq 0 $$\n",
    "$$f2= 0.048x_{12}+1.1423x_{32}+0.009764x_{42}-x_{21}-x_{23}-x_{24}\\geq 0 $$\n",
    "$$f3= 0.04123x_{13}+0.8851x_{23}+0.00854x_{43}-x_{31}-x_{32}-x_{34}\\geq 0 $$\n",
    "$$f4=4.83x_{14}+102.48x_{24}+117.07x_{34}-x_{41}-x_{42}-x_{43}\\geq 0 $$"
   ]
  },
  {
   "cell_type": "markdown",
   "metadata": {},
   "source": [
    "Las variables involucradas son:\n",
    "<ul>\n",
    "    \n",
    "   <li>$x_{12}$ Peso a USD</li>\n",
    "    <li>$x_{13}$ Peso a Euro</li>\n",
    "    <li>$x_{14}$ Peso a Yen</li>\n",
    "    <li>$x_{21}$ USD a Peso</li>\n",
    "    <li>$x_{23}$ USD a Euro</li>\n",
    "    <li>$x_{24}$ USD a Yen</li>\n",
    "    <li>$x_{31}$ Euro a Peso</li>\n",
    "    <li>$x_{32}$ Euro a USD</li>\n",
    "    <li>$x_{34}$ Euro a Yen</li>\n",
    "    <li>$x_{41}$ Yen a Peso</li>\n",
    "    <li>$x_{42}$ Yen a USD</li>\n",
    "    <li>$x_{43}$ Yen a Euro</li>\n",
    "</ul>"
   ]
  },
  {
   "cell_type": "markdown",
   "metadata": {},
   "source": [
    "Lo que pretendemos hacer maximizando (f1) es obtener la mayor ganancia en pesos mexicanos MXN para conseguir un mejor arbitraje con la transacción de divisas. Buscamos cuál será la mejor ruta para lograr eso. \n",
    "\n",
    "La primer restricción es que la función que pretendemos maximizar sea menor o igual a 100 pesos mexicanos. Esa es la ganancia que estamos buscando\n",
    "\n",
    "La siguientes restricciones son para que no haya transacciones negativas por lo tanto tiene que ser mayor o igual a cero. "
   ]
  },
  {
   "cell_type": "markdown",
   "metadata": {},
   "source": [
    "## Solución del problema de optimización."
   ]
  },
  {
   "cell_type": "code",
   "execution_count": 9,
   "metadata": {},
   "outputs": [],
   "source": [
    "import scipy.optimize as opt\n",
    "import numpy as np"
   ]
  },
  {
   "cell_type": "code",
   "execution_count": 30,
   "metadata": {},
   "outputs": [],
   "source": [
    "# Escriba acá las matrices como arreglos de Numpy\n",
    "c = -np.array([-1,-1,-1,21.1978,0,0,24.2149,0,0,0.2068,0,0])\n",
    "\n",
    "A = np.array([[-1,-1,-1,21.1978,0,0,24.2149,0,0,0.2068,0,0],\n",
    "              [1,1,1,-21.1978,0,0,-24.2149,0,0,-0.2068,0,0],\n",
    "              [-0.048,0,0,1,1,1,0,-1.1423,0,0,-0.00976,0],\n",
    "              [0,-0.04123,0,0,-0.8851,0,1,1,1,0,0,-0.00854],\n",
    "                [0,0,-4.83,0,0,-102.48,0,0,-117.07,1,1,1]])\n",
    "b = np.array([100,0,0,0,0])"
   ]
  },
  {
   "cell_type": "code",
   "execution_count": 38,
   "metadata": {},
   "outputs": [
    {
     "data": {
      "text/plain": [
       "     con: array([], dtype=float64)\n",
       "     fun: -99.99999999999987\n",
       " message: 'Optimization terminated successfully.'\n",
       "     nit: 8\n",
       "   slack: array([1.27897692e-13, 1.00000000e+02, 0.00000000e+00, 0.00000000e+00,\n",
       "       0.00000000e+00])\n",
       "  status: 0\n",
       " success: True\n",
       "       x: array([  0.        ,   0.        ,   0.        ,   0.        ,\n",
       "       426.91934136,   0.        ,   4.12968875, 373.73662029,\n",
       "         0.        ,   0.        ,   0.        ,   0.        ])"
      ]
     },
     "execution_count": 38,
     "metadata": {},
     "output_type": "execute_result"
    }
   ],
   "source": [
    "sol = opt.linprog(c,A,b,method=\"simplex\")\n",
    "sol"
   ]
  },
  {
   "cell_type": "markdown",
   "metadata": {},
   "source": [
    "## Visualización de la solución del problema"
   ]
  },
  {
   "attachments": {},
   "cell_type": "markdown",
   "metadata": {},
   "source": [
    "<img src=\"./Esquema proyecto.jpeg\" style=\"max-width: 450px;\">"
   ]
  },
  {
   "cell_type": "markdown",
   "metadata": {},
   "source": [
    "Concluimos con lo siguiente:\n",
    "Para alcanzar la ganancia deseada de no más de $ 100 MXN se tiene que hacer las inversiones de las las siguientes divisas de la siguiente manera. \n",
    "\n",
    "1. Se invertirá 373.73662029 Euros a USD \n",
    "2. Después haremos la conversión de $ 426.91934136 USD de nuevo a Euros.\n",
    "\n",
    "3. Sacamos la diferencia de los Euros obtenidos y los que teníamos. Se invertirá la diferencia de 4.12968875 Euros a MXN con lo que se obtendrá una ganancia de no más de $ 100 MXN\n",
    "\n",
    "\n"
   ]
  },
  {
   "cell_type": "code",
   "execution_count": null,
   "metadata": {},
   "outputs": [],
   "source": []
  },
  {
   "cell_type": "code",
   "execution_count": null,
   "metadata": {},
   "outputs": [],
   "source": []
  }
 ],
 "metadata": {
  "kernelspec": {
   "display_name": "Python 3",
   "language": "python",
   "name": "python3"
  },
  "language_info": {
   "codemirror_mode": {
    "name": "ipython",
    "version": 3
   },
   "file_extension": ".py",
   "mimetype": "text/x-python",
   "name": "python",
   "nbconvert_exporter": "python",
   "pygments_lexer": "ipython3",
   "version": "3.7.3"
  }
 },
 "nbformat": 4,
 "nbformat_minor": 2
}
